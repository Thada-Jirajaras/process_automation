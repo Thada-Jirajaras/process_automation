{
 "cells": [
  {
   "cell_type": "code",
   "execution_count": 1,
   "id": "a57e919a-6b4b-47d8-a9a5-ae5b6d57371b",
   "metadata": {},
   "outputs": [
    {
     "ename": "NameError",
     "evalue": "name 'pd' is not defined",
     "output_type": "error",
     "traceback": [
      "\u001b[0;31m---------------------------------------------------------------------------\u001b[0m",
      "\u001b[0;31mNameError\u001b[0m                                 Traceback (most recent call last)",
      "\u001b[0;32m/tmp/ipykernel_2761/457199646.py\u001b[0m in \u001b[0;36m<module>\u001b[0;34m\u001b[0m\n\u001b[1;32m     22\u001b[0m \u001b[0mprod_deployment_path\u001b[0m \u001b[0;34m=\u001b[0m \u001b[0mos\u001b[0m\u001b[0;34m.\u001b[0m\u001b[0mpath\u001b[0m\u001b[0;34m.\u001b[0m\u001b[0mjoin\u001b[0m\u001b[0;34m(\u001b[0m\u001b[0mconfig\u001b[0m\u001b[0;34m[\u001b[0m\u001b[0;34m'prod_deployment_path'\u001b[0m\u001b[0;34m]\u001b[0m\u001b[0;34m)\u001b[0m\u001b[0;34m\u001b[0m\u001b[0;34m\u001b[0m\u001b[0m\n\u001b[1;32m     23\u001b[0m \u001b[0;34m\u001b[0m\u001b[0m\n\u001b[0;32m---> 24\u001b[0;31m test_data = pd.read_csv(\n\u001b[0m\u001b[1;32m     25\u001b[0m         os.path.join(\n\u001b[1;32m     26\u001b[0m             \u001b[0mtest_data_path\u001b[0m\u001b[0;34m,\u001b[0m\u001b[0;34m\u001b[0m\u001b[0;34m\u001b[0m\u001b[0m\n",
      "\u001b[0;31mNameError\u001b[0m: name 'pd' is not defined"
     ]
    }
   ],
   "source": [
    "%load_ext autoreload\n",
    "%autoreload 2\n",
    "import os\n",
    "import json\n",
    "from ingestion import merge_multiple_dataframe\n",
    "from training import train_model\n",
    "from scoring import score_model\n",
    "from deployment import deploy_model_into_production\n",
    "from diagnostics import model_predictions, dataframe_summary, execution_time, outdated_packages_list\n",
    "from reporting import report_model\n",
    "\n",
    "# Load config.json and get input and output paths\n",
    "with open('config.json', 'r') as config_file:\n",
    "    config = json.load(config_file)\n",
    "\n",
    "input_folder_path = config['input_folder_path']\n",
    "output_folder_path = config['output_folder_path']\n",
    "dataset_csv_path = os.path.join(config['output_folder_path'])\n",
    "model_path = os.path.join(config['output_model_path'])\n",
    "output_model_path = os.path.join(config['output_model_path'])\n",
    "test_data_path = os.path.join(config['test_data_path'])\n",
    "prod_deployment_path = os.path.join(config['prod_deployment_path']) \n",
    "\n",
    "test_data = pd.read_csv(\n",
    "        os.path.join(\n",
    "            test_data_path,\n",
    "            \"testdata.csv\")).set_index('corporation')"
   ]
  },
  {
   "cell_type": "code",
   "execution_count": 11,
   "id": "def4407d-35cb-4d2f-9a24-1e8eeae95a1a",
   "metadata": {},
   "outputs": [
    {
     "data": {
      "text/plain": [
       "b'{\"execution_time\": [1.0257198579965916, 0.40760735200092313], \"na_percent\": [0.0, 0.0, 0.0, 0.0], \"outdated_packages_list\": \"Package          Version Latest Type\\\\n---------------- ------- ------ -----\\\\nanyio            3.3.0   3.3.1  wheel\\\\nargon2-cffi      20.1.0  21.1.0 wheel\\\\ncffi             1.14.4  1.14.6 wheel\\\\nclick            7.1.2   8.0.1  wheel\\\\ncryptography     3.4.7   3.4.8  wheel\\\\ndebugpy          1.4.1   1.4.3  wheel\\\\nFlask            1.1.2   2.0.1  wheel\\\\ngunicorn         20.0.4  20.1.0 wheel\\\\nidna             2.10    3.2    wheel\\\\nipython          7.27.0  7.28.0 wheel\\\\nitsdangerous     1.1.0   2.0.1  wheel\\\\nJinja2           2.11.3  3.0.1  wheel\\\\njson5            0.9.5   0.9.6  wheel\\\\nkiwisolver       1.3.1   1.3.2  wheel\\\\nMarkupSafe       1.1.1   2.0.1  wheel\\\\nmatplotlib       3.3.4   3.4.3  wheel\\\\nnumpy            1.20.1  1.21.2 wheel\\\\npandas           1.2.2   1.3.3  wheel\\\\nPillow           8.1.0   8.3.2  wheel\\\\npyrsistent       0.17.3  0.18.0 wheel\\\\npython-dateutil  2.8.1   2.8.2  wheel\\\\nrequests         2.25.1  2.26.0 wheel\\\\nscikit-learn     0.24.1  1.0    wheel\\\\nscipy            1.6.1   1.7.1  wheel\\\\nseaborn          0.11.1  0.11.2 wheel\\\\nsetuptools       58.0.4  58.1.0 wheel\\\\nsix              1.15.0  1.16.0 wheel\\\\nthreadpoolctl    2.1.0   2.2.0  wheel\\\\nwebsocket-client 0.57.0  1.2.1  wheel\\\\nWerkzeug         1.0.1   2.0.1  wheel\\\\n\"}'"
      ]
     },
     "execution_count": 11,
     "metadata": {},
     "output_type": "execute_result"
    }
   ],
   "source": [
    "import requests\n",
    "import json\n",
    "url = \"http://0.0.0.0:8000/diagnostics\"\n",
    "\n",
    "\n",
    "x = requests.get(url)\n",
    "x.content"
   ]
  },
  {
   "cell_type": "code",
   "execution_count": 4,
   "id": "576f91e2-9445-47ad-9fab-2d7605043885",
   "metadata": {},
   "outputs": [
    {
     "data": {
      "text/plain": [
       "{'num_sample': 26,\n",
       " 'mean': [165.65384615384616,\n",
       "  1502.923076923077,\n",
       "  26.884615384615383,\n",
       "  0.5769230769230769],\n",
       " 'median': [73.0, 955.0, 14.0, 1.0],\n",
       " 'std': [284.0332293669446,\n",
       "  2192.64495845683,\n",
       "  31.35388578543581,\n",
       "  0.5038314736557788],\n",
       " 'na_percent': [0.0, 0.0, 0.0, 0.0]}"
      ]
     },
     "execution_count": 4,
     "metadata": {},
     "output_type": "execute_result"
    }
   ],
   "source": [
    "dataframe_summary(data_folder=output_folder_path)"
   ]
  },
  {
   "cell_type": "code",
   "execution_count": 201,
   "id": "bb197132-dc82-4664-a5de-1cb08ce42f6d",
   "metadata": {},
   "outputs": [
    {
     "data": {
      "text/plain": [
       "'{\"input_file\": \"testdata/testdata.csv\"}'"
      ]
     },
     "execution_count": 201,
     "metadata": {},
     "output_type": "execute_result"
    }
   ],
   "source": [
    " json.dumps({'input_file': os.path.join(\n",
    "            test_data_path,\n",
    "            \"testdata.csv\")})"
   ]
  },
  {
   "cell_type": "code",
   "execution_count": null,
   "id": "a164df6e-f758-41f1-a001-4f7fcbfe10ac",
   "metadata": {},
   "outputs": [],
   "source": []
  },
  {
   "cell_type": "code",
   "execution_count": 152,
   "id": "39d2a4d8-ea7a-4037-8b71-115cecbb06cb",
   "metadata": {},
   "outputs": [
    {
     "data": {
      "text/html": [
       "<div>\n",
       "<style scoped>\n",
       "    .dataframe tbody tr th:only-of-type {\n",
       "        vertical-align: middle;\n",
       "    }\n",
       "\n",
       "    .dataframe tbody tr th {\n",
       "        vertical-align: top;\n",
       "    }\n",
       "\n",
       "    .dataframe thead th {\n",
       "        text-align: right;\n",
       "    }\n",
       "</style>\n",
       "<table border=\"1\" class=\"dataframe\">\n",
       "  <thead>\n",
       "    <tr style=\"text-align: right;\">\n",
       "      <th></th>\n",
       "      <th>lastmonth_activity</th>\n",
       "      <th>lastyear_activity</th>\n",
       "      <th>number_of_employees</th>\n",
       "    </tr>\n",
       "  </thead>\n",
       "  <tbody>\n",
       "    <tr>\n",
       "      <th>0</th>\n",
       "      <td>1</td>\n",
       "      <td>2</td>\n",
       "      <td>3</td>\n",
       "    </tr>\n",
       "  </tbody>\n",
       "</table>\n",
       "</div>"
      ],
      "text/plain": [
       "   lastmonth_activity  lastyear_activity  number_of_employees\n",
       "0                   1                  2                    3"
      ]
     },
     "execution_count": 152,
     "metadata": {},
     "output_type": "execute_result"
    }
   ],
   "source": [
    "pd.DataFrame([[1,2,3]],columns=[\"lastmonth_activity\",\n",
    "                                     \"lastyear_activity\",\n",
    "                                     \"number_of_employees\"])"
   ]
  },
  {
   "cell_type": "code",
   "execution_count": null,
   "id": "c44d4ccf-1763-4b55-a6a1-e4f677df9e74",
   "metadata": {},
   "outputs": [],
   "source": []
  },
  {
   "cell_type": "code",
   "execution_count": 124,
   "id": "2823b43f-9185-4ee9-b338-3dd548a68ada",
   "metadata": {},
   "outputs": [
    {
     "data": {
      "image/png": "[encoded data removed]",
      "text/plain": [
       "<Figure size 432x288 with 2 Axes>"
      ]
     },
     "metadata": {
      "needs_background": "light"
     },
     "output_type": "display_data"
    }
   ],
   "source": [
    "score_model(data_folder=test_data_path, model_folder=output_model_path)"
   ]
  },
  {
   "cell_type": "code",
   "execution_count": null,
   "id": "bb9fbe63-be50-492f-b84f-3ea103927487",
   "metadata": {},
   "outputs": [],
   "source": []
  }
 ],
 "metadata": {
  "kernelspec": {
   "display_name": "Python 3 (ipykernel)",
   "language": "python",
   "name": "python3"
  },
  "language_info": {
   "codemirror_mode": {
    "name": "ipython",
    "version": 3
   },
   "file_extension": ".py",
   "mimetype": "text/x-python",
   "name": "python",
   "nbconvert_exporter": "python",
   "pygments_lexer": "ipython3",
   "version": "3.7.6"
  }
 },
 "nbformat": 4,
 "nbformat_minor": 5
}
